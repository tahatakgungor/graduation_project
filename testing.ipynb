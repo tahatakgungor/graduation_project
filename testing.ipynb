{
 "cells": [
  {
   "cell_type": "code",
   "execution_count": 8,
   "metadata": {},
   "outputs": [
    {
     "name": "stdout",
     "output_type": "stream",
     "text": [
      "(10000, 10)\n",
      "X_train and y_train : ((7000, 8),(7000,))\n",
      "X_test  and y_test  : ((3000, 8),(3000,))\n",
      "(10000, 8) (10000,)\n"
     ]
    }
   ],
   "source": [
    "from sklearn import preprocessing\n",
    "import pickle\n",
    "import pandas as pd\n",
    "import numpy as np\n",
    "from sklearn.model_selection import train_test_split\n",
    "\n",
    "# Loading data\n",
    "data = pd.read_csv('data/all_dataset.csv')\n",
    "print(data.shape)\n",
    "\n",
    "X = data.drop(['activity','activityIndex'], axis=1).values\n",
    "y = data.activityIndex.values\n",
    "\n",
    "# Split the data into training and test sets\n",
    "X_train, X_test, y_train, y_test = train_test_split(X, y, test_size=0.3, random_state=25)\n",
    "\n",
    "print('X_train and y_train : ({},{})'.format(X_train.shape, y_train.shape))\n",
    "print('X_test  and y_test  : ({},{})'.format(X_test.shape, y_test.shape))\n",
    "print(X.shape, y.shape)\n",
    "\n",
    "labels=[1,2,3,4]"
   ]
  },
  {
   "cell_type": "code",
   "execution_count": 9,
   "metadata": {},
   "outputs": [],
   "source": [
    "def bmi_index_cal(bmi_valu):\n",
    "    bmi_index = 0\n",
    "    if(bmi_valu<16):\n",
    "        bmi_index = 0\n",
    "        \n",
    "    elif(16<bmi_valu<=18.5):\n",
    "        bmi_index = 1\n",
    "    elif(18.5<bmi_valu<=25):\n",
    "        bmi_index = 2\n",
    "    elif(25<bmi_valu<=30):\n",
    "        bmi_index = 3\n",
    "    elif(30<bmi_valu<=35):\n",
    "        bmi_index = 4\n",
    "    else:\n",
    "        bmi_index = 5\n",
    "\n",
    "    return bmi_index"
   ]
  },
  {
   "cell_type": "code",
   "execution_count": 10,
   "metadata": {},
   "outputs": [],
   "source": [
    "def bmi_value_cal(bmi_valu):\n",
    "    if(bmi_valu<16):\n",
    "        print(\"Body Type / Level: Too Weak / 0\")\n",
    "    elif(16<bmi_valu<=18.5):\n",
    "        print(\"Body Type / Level: Weak / 1\")\n",
    "    elif(18.5<bmi_valu<=25):\n",
    "        print(\"Body Type / Level: Normal / 2\")\n",
    "    elif(25<bmi_valu<=30):\n",
    "        print(\"Body Type / Level: Fat / 3\")\n",
    "    elif(30<bmi_valu<=35):\n",
    "        print(\"Body Type / Level: Onset of Obesity / 4\")\n",
    "    else:\n",
    "        print(\"Body Type / Level: Obese / 5\")"
   ]
  },
  {
   "cell_type": "code",
   "execution_count": 11,
   "metadata": {},
   "outputs": [],
   "source": [
    "def news_input():\n",
    "    height_input = int(input(\"Height: \"))\n",
    "    weight_input = int(input(\"Weight: \"))\n",
    "    age_input = int(input(\"Age: \"))\n",
    "    gender_input = input(\"Sex: \")\n",
    "    if gender_input.startswith(('m','M','e','E')):\n",
    "        gender_input=1\n",
    "    elif gender_input.startswith(('f','F','k','K')):\n",
    "        gender_input=0\n",
    "    heart_rate_risk_input = input(\"Do You Have Heart Disease?: \")\n",
    "    if heart_rate_risk_input.startswith(('y','Y','e','E')):\n",
    "        heart_rate_risk_input=1\n",
    "    elif heart_rate_risk_input.startswith(('h','H','n','N')):\n",
    "        heart_rate_risk_input=0\n",
    "    heart_rate_input = int(input(\"Heart Rate: \"))\n",
    "    bmi = int(weight_input/((height_input/100)**2))\n",
    "    bmiIndex = bmi_index_cal(bmi)\n",
    "    input_arr = np.array([[height_input,weight_input,age_input,gender_input,bmi,bmiIndex,heart_rate_risk_input,heart_rate_input]])\n",
    "    return input_arr"
   ]
  },
  {
   "cell_type": "code",
   "execution_count": 12,
   "metadata": {},
   "outputs": [],
   "source": [
    "def new_outputs(pred_model,newInput):\n",
    "    print(\"Height:\",newInput[0][0])\n",
    "    print(\"Weight:\",newInput[0][1])\n",
    "    print(\"Age:\",newInput[0][2])\n",
    "    if newInput[0][3] == 1:\n",
    "        print(\"Sex: Male\")\n",
    "    else:\n",
    "        print(\"Sex: Female\")\n",
    "    bmi_value_cal(newInput[0][4])\n",
    "    print(\"Body Mass Index:\",newInput[0][4])\n",
    "    if newInput[0][6] == 1:\n",
    "        print(\"Heart Disease: Yes\")\n",
    "    else:\n",
    "        print(\"Heart Disease: No\")\n",
    "    print(\"Heart Rate:\",newInput[0][7])\n",
    "    "
   ]
  },
  {
   "cell_type": "code",
   "execution_count": 13,
   "metadata": {},
   "outputs": [
    {
     "name": "stdout",
     "output_type": "stream",
     "text": [
      "0.866\n"
     ]
    }
   ],
   "source": [
    "loaded_model = pickle.load(open('models/svm.sav', 'rb'))\n",
    "result = loaded_model.score(X_test, y_test)\n",
    "print(result)"
   ]
  },
  {
   "cell_type": "code",
   "execution_count": 14,
   "metadata": {},
   "outputs": [
    {
     "name": "stdout",
     "output_type": "stream",
     "text": [
      "Height: 100\n",
      "Weight: 50\n",
      "Age: 22\n",
      "Sex: Male\n",
      "Body Type / Level: Obese / 5\n",
      "Body Mass Index: 50\n",
      "Heart Disease: Yes\n",
      "Heart Rate: 120\n",
      "You are Sitting now!\n"
     ]
    }
   ],
   "source": [
    "new_input = news_input()\n",
    "# get prediction for new input\n",
    "\n",
    "new_output = loaded_model.predict(new_input)\n",
    "# summarize input and output\n",
    "if new_output == 1:\n",
    "    new_outputs(new_output,new_input)\n",
    "    print(\"You are Climbing Stairs now!\")\n",
    "elif new_output == 2:\n",
    "    new_outputs(new_output,new_input)\n",
    "    print(\"You Are Running Now!\")\n",
    "elif new_output == 3:\n",
    "    new_outputs(new_output,new_input)\n",
    "    print(\"You are Walking now!\")\n",
    "elif new_output == 4:\n",
    "    new_outputs(new_output,new_input)\n",
    "    print(\"You are Sitting now!\")"
   ]
  }
 ],
 "metadata": {
  "kernelspec": {
   "display_name": "Python 3",
   "language": "python",
   "name": "python3"
  },
  "language_info": {
   "codemirror_mode": {
    "name": "ipython",
    "version": 3
   },
   "file_extension": ".py",
   "mimetype": "text/x-python",
   "name": "python",
   "nbconvert_exporter": "python",
   "pygments_lexer": "ipython3",
   "version": "3.10.8"
  },
  "orig_nbformat": 4,
  "vscode": {
   "interpreter": {
    "hash": "b0fa6594d8f4cbf19f97940f81e996739fb7646882a419484c72d19e05852a7e"
   }
  }
 },
 "nbformat": 4,
 "nbformat_minor": 2
}
